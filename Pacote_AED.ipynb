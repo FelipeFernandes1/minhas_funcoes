{
  "nbformat": 4,
  "nbformat_minor": 0,
  "metadata": {
    "colab": {
      "provenance": []
    },
    "kernelspec": {
      "name": "python3",
      "display_name": "Python 3"
    },
    "language_info": {
      "name": "python"
    }
  },
  "cells": [
    {
      "cell_type": "code",
      "source": [
        "import pandas as pd\n",
        "import seaborn as sns\n",
        "import matplotlib.pyplot as plt\n",
        "import math\n",
        "import numpy as np\n",
        "import statsmodels.api as sm"
      ],
      "metadata": {
        "id": "3LF4KB8e4u4y"
      },
      "execution_count": 1,
      "outputs": []
    },
    {
      "cell_type": "code",
      "execution_count": 26,
      "metadata": {
        "id": "PEMkMXNX1sqq"
      },
      "outputs": [],
      "source": [
        "#Função para analisar variáveis qualitativas\n",
        "def qualitativa(coluna):\n",
        "  #temas\n",
        "  minha_paleta = ['royalblue','skyblue','lightsteelblue', 'cornflowerblue']\n",
        "  sns.set_palette(minha_paleta)\n",
        "\n",
        "  #Tabela de frequencia\n",
        "  tabela = coluna.value_counts().reset_index()\n",
        "  nome_coluna = tabela.columns[1]\n",
        "  tabela = tabela.rename(columns={nome_coluna: 'frequencia_absoluta'})\n",
        "  tabela = tabela.rename(columns={'index': nome_coluna})\n",
        "  tabela['frequencia_relativa'] = tabela['frequencia_absoluta']/tabela['frequencia_absoluta'].sum()\n",
        "  tabela['frequencia_acumulada'] = tabela['frequencia_relativa'].cumsum()\n",
        "  variavel = tabela.columns[0]\n",
        "  print('TABELA DE FREQUÊNCIA')\n",
        "  print(' ')\n",
        "  print(tabela.to_string(index=False))\n",
        "  print(' ')\n",
        "\n",
        "  #verificando valores nulos/ausentes\n",
        "  print(f'''CONTAGEM DE VALORES NULOS/AUSENTES\n",
        "{len(coluna)-coluna.count()}''')\n",
        "  print(' ')\n",
        "\n",
        "  if len(coluna.value_counts()) > 3:\n",
        "    print('GRÁFICO DE BARRAS')\n",
        "    #Plotando gráficos de barra\n",
        "    plt.figure(figsize=(5, 3))\n",
        "    sns.barplot(x=tabela[variavel], y=tabela['frequencia_relativa'], palette=minha_paleta , edgecolor='black')\n",
        "    plt.xlabel(variavel)\n",
        "    plt.ylabel('frequencia_relativa')\n",
        "    plt.tight_layout()\n",
        "    plt.show()\n",
        "  else:\n",
        "    print('GRÁFICO DE PIZZA')\n",
        "    plt.figure(figsize=(3, 3))\n",
        "    plt.pie(tabela['frequencia_relativa'], labels=tabela[variavel], autopct='%1.1f%%', startangle=140)\n",
        "    plt.axis('equal')\n",
        "    plt.show()\n",
        "\n"
      ]
    },
    {
      "cell_type": "code",
      "source": [
        "#Função para analisar variáveis quantitativas\n",
        "def quantitativa(coluna):\n",
        "  #temas\n",
        "  minha_paleta = ['royalblue','skyblue','lightsteelblue', 'cornflowerblue']\n",
        "  sns.set_palette(minha_paleta)\n",
        "\n",
        "  #Analisando as medidas estatísticas\n",
        "  print(f'''MEDIDAS ESTATÍSTICAS\n",
        "\n",
        "  {coluna.describe()}\n",
        "\n",
        "CONTAGEM DE VALORES NULOS/AUSENTES\n",
        "  {len(coluna)-coluna.count()}''')\n",
        "  print('')\n",
        "\n",
        "  print('HISTOGRAMA E BOXPLOT')\n",
        "  # Plotando histograma e boxplot\n",
        "  num_bins = 1 + int(math.log2(len(coluna))) # Calculando o número de bins usando a regra de Sturges\n",
        "  fig, axes = plt.subplots(1, 2, figsize=(6, 3))\n",
        "  sns.histplot(x=coluna, bins=num_bins, kde=False, ax=axes[0])\n",
        "  axes[0].set_ylabel('Frequência absoluta')\n",
        "  axes[0].set_xlabel(coluna.name)\n",
        "  sns.boxplot(y=coluna, ax=axes[1])\n",
        "  axes[1].set_xlabel(coluna.name)\n",
        "  axes[1].set_ylabel('')\n",
        "  plt.tight_layout()\n",
        "  plt.show()\n"
      ],
      "metadata": {
        "id": "lMsADslr2iWi"
      },
      "execution_count": null,
      "outputs": []
    },
    {
      "cell_type": "code",
      "source": [
        "#Criando a função para calcular o Information Value\n",
        "def tabela_iv(explicativa, resposta):\n",
        "\n",
        "  df_iv = pd.crosstab(explicativa, resposta)\n",
        "  variavel_resposta = resposta.name\n",
        "  df_iv['Freq_absoluta'] = df_iv[1] + df_iv[0]\n",
        "  df_iv['Freq_relativa'] = df_iv['Freq_absoluta']/df_iv['Freq_absoluta'].sum()\n",
        "  df_iv['Valor_Um_relativo'] = (df_iv[1]/df_iv[1].sum())\n",
        "  df_iv['Valor_Zero_relativo'] = (df_iv[0]/df_iv[0].sum())\n",
        "  df_iv['Taxa_Valor_Um'] = (df_iv[1]/df_iv['Freq_absoluta'])\n",
        "  df_iv['Odds'] = df_iv['Valor_Um_relativo']/df_iv['Valor_Zero_relativo']\n",
        "  df_iv['IV'] = (df_iv['Valor_Um_relativo']-df_iv['Valor_Zero_relativo'])* np.log(df_iv['Odds'])\n",
        "  df_iv['IV'].replace(np.inf, 0, inplace=True)\n",
        "  df_iv = df_iv.drop(columns=['Freq_absoluta','Freq_relativa','Valor_Um_relativo','Valor_Zero_relativo'])\n",
        "  soma_iv = round(df_iv['IV'].sum(), 2)\n",
        "\n",
        "  benchmark = ''\n",
        "  if soma_iv <= 0.02:\n",
        "     benchmark = 'MUITO FRACO'\n",
        "  elif soma_iv < 0.1:\n",
        "    benchmark = 'FRACO'\n",
        "  elif soma_iv < 0.3:\n",
        "    benchmark = 'MÉDIO'\n",
        "  elif soma_iv < 0.5:\n",
        "    benchmark = 'FORTE'\n",
        "  else:\n",
        "    benchmark = 'MUITO FORTE'\n",
        "\n",
        "  return print(df_iv),print(f'''\n",
        "O INFORMATION VALUE TOTAL É: {soma_iv}\n",
        "CLASSIFICADO COMO: {benchmark}''')"
      ],
      "metadata": {
        "id": "mBqfpjglZ2kG"
      },
      "execution_count": null,
      "outputs": []
    },
    {
      "cell_type": "code",
      "source": [
        "#Criando função para calcular o coeficiente de determinação\n",
        "def r_quadrado(qualitativa, quantitativa):\n",
        "\n",
        "  #temas\n",
        "  minha_paleta = ['royalblue','skyblue','lightsteelblue', 'cornflowerblue']\n",
        "  sns.set_palette(minha_paleta)\n",
        "\n",
        "  variavel_dummie = sm.add_constant(qualitativa)\n",
        "  modelo = sm.OLS(quantitativa, variavel_dummie).fit() #Cria um modelo de regressão linear simples\n",
        "  r_squared = round(modelo.rsquared, 2) #Extrai o R²\n",
        "\n",
        "  benchmark = ''\n",
        "  if r_squared <= 0.25:\n",
        "     benchmark = 'FRACO'\n",
        "  elif r_squared < 0.5:\n",
        "    benchmark = 'MÉDIO'\n",
        "  elif r_squared < 0.75:\n",
        "    benchmark = 'FORTE'\n",
        "  else:\n",
        "    benchmark = 'MUITO FORTE'\n",
        "\n",
        "  print(f'''O COEFICIENTE DE DETERMINAÇÃO(R²) É: {r_squared}\n",
        "CLASSIFICADO COMO: {benchmark}''')\n",
        "  plt.figure(figsize=(4, 3))\n",
        "  sns.boxplot(x=qualitativa, y=quantitativa)\n",
        "  plt.xlabel(qualitativa.name)\n",
        "  plt.ylabel(quantitativa.name)\n",
        "  plt.tight_layout()\n",
        "  plt.show()"
      ],
      "metadata": {
        "id": "IKw5m9JLiqz1"
      },
      "execution_count": null,
      "outputs": []
    },
    {
      "cell_type": "code",
      "source": [
        "#Função para calcular a correlação de Person\n",
        "def person(variavel_A, variavel_B):\n",
        "  correlacao = round(variavel_A.corr(variavel_B), 2)\n",
        "\n",
        "  benchmark = ''\n",
        "  if correlacao <= -0.7:\n",
        "     benchmark = 'FORTEMENTE NEGATIVA'\n",
        "  elif correlacao <= 0.6:\n",
        "    benchmark = 'FRACA'\n",
        "  else:\n",
        "    benchmark = 'FORTEMENTE POSITIVA'\n",
        "\n",
        "  print(f\"A CORRELAÇÃO DE PERSON ENTRE {variavel_A.name.upper()} E {variavel_B.name.upper()} É: {correlacao}\")\n",
        "  print(f'CLASSIFICAÇÃO: {benchmark}')\n",
        "  print('')\n",
        "\n",
        "  #Plotando o gráfico de dispersão\n",
        "  plt.figure(figsize=(4, 3))\n",
        "  sns.scatterplot(x=variavel_A, y=variavel_B)\n",
        "  plt.xlabel(variavel_A.name)\n",
        "  plt.ylabel(variavel_B.name)\n",
        "  plt.show()"
      ],
      "metadata": {
        "id": "cPyzSApwm_y0"
      },
      "execution_count": null,
      "outputs": []
    }
  ]
}